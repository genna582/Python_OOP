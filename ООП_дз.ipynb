{
 "cells": [
  {
   "cell_type": "code",
   "execution_count": 38,
   "id": "cf96b0c6-a093-4272-a87f-03f020516ebb",
   "metadata": {},
   "outputs": [],
   "source": [
    "class Pet:\n",
    "    def __init__(self, name, species, age, gender):\n",
    "        self._name = name\n",
    "        self._species = species\n",
    "        self._age = age\n",
    "        self._gender = gender\n",
    "\n",
    "    def get_info(self):\n",
    "        print(f\"{self._name} ({self._gender})\"\n",
    "        f\", {self._species}\"\n",
    "        f\", {self._age} year old \")\n",
    "\n",
    "\n",
    "class Dog(Pet):\n",
    "    def __init__(self, name, age, gender, breed):\n",
    "        super().__init__(name, \"Dog\", age, gender)\n",
    "        self._breed = breed\n",
    "   \n",
    "    def bark(self):\n",
    "        print(f\"My dog breeds {self._breed} does Woof!\")\n",
    "\n",
    "class Cat(Pet):\n",
    "    def __init__(self, name, age, gender, color):\n",
    "        super().__init__(name, \"Cat\", age, gender)\n",
    "        self._color = color\n",
    "\n",
    "    def meow(self):\n",
    "        print(f\"My cat color {self._color} does Meow!\")"
   ]
  },
  {
   "cell_type": "code",
   "execution_count": 39,
   "id": "9d85c303-b029-4f0e-b2f1-393119c3532a",
   "metadata": {},
   "outputs": [
    {
     "name": "stdout",
     "output_type": "stream",
     "text": [
      "Berta (Female), Dog, 5 year old \n",
      "My dog breeds gibraltar does Woof!\n"
     ]
    }
   ],
   "source": [
    "dog = Dog(\"Berta\", 5, \"Female\", \"gibraltar\")\n",
    "dog.get_info()\n",
    "dog.bark()"
   ]
  },
  {
   "cell_type": "code",
   "execution_count": 40,
   "id": "2ec5af85-9bba-4ad7-a1d8-800ba5bb4dba",
   "metadata": {},
   "outputs": [
    {
     "name": "stdout",
     "output_type": "stream",
     "text": [
      "Maks (Male), Cat, 4 year old \n",
      "My cat color gray does Meow!\n"
     ]
    }
   ],
   "source": [
    "cat = Cat(\"Maks\", 4, \"Male\", \"gray\")\n",
    "cat.get_info()\n",
    "cat.meow()"
   ]
  },
  {
   "cell_type": "code",
   "execution_count": null,
   "id": "134dbc59-3999-4e67-be23-536163e361d2",
   "metadata": {},
   "outputs": [],
   "source": []
  }
 ],
 "metadata": {
  "kernelspec": {
   "display_name": "Python 3 (ipykernel)",
   "language": "python",
   "name": "python3"
  },
  "language_info": {
   "codemirror_mode": {
    "name": "ipython",
    "version": 3
   },
   "file_extension": ".py",
   "mimetype": "text/x-python",
   "name": "python",
   "nbconvert_exporter": "python",
   "pygments_lexer": "ipython3",
   "version": "3.11.4"
  }
 },
 "nbformat": 4,
 "nbformat_minor": 5
}
